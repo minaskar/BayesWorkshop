{
 "cells": [
  {
   "cell_type": "markdown",
   "metadata": {},
   "source": [
    "# Model selection with **Arianna** (experimental)\n",
    "\n",
    "https://arianna.readthedocs.io/"
   ]
  },
  {
   "cell_type": "code",
   "execution_count": null,
   "metadata": {},
   "outputs": [],
   "source": [
    "import arianna as arn\n",
    "import numpy as np \n",
    "import matplotlib.pyplot as plt\n",
    "\n",
    "print('arianna version:', arn.__version__)"
   ]
  },
  {
   "cell_type": "code",
   "execution_count": null,
   "metadata": {},
   "outputs": [],
   "source": [
    "# sinusoidal model\n",
    "def model_A(params, t):\n",
    "    A, B, P, t0 = params\n",
    "    return A * np.sin((t / P + t0) * 2 * np.pi) + B\n",
    "\n",
    "# constant offset model\n",
    "def model_B(params, t):\n",
    "    B, = params\n",
    "    return 0 * t + B"
   ]
  },
  {
   "cell_type": "code",
   "execution_count": null,
   "metadata": {},
   "outputs": [],
   "source": [
    "np.random.seed(42)\n",
    "\n",
    "n_data = 50\n",
    "\n",
    "# time of observations\n",
    "t = np.random.uniform(0, 5, size=n_data)\n",
    "\n",
    "# A=1.0, B=1.0, P=3.0, t=0.0\n",
    "params_true = [1.0, 1.0, 3.0, 0.0]\n",
    "\n",
    "# measurement values\n",
    "yerr = 1.0\n",
    "y = np.random.normal(model_A(params_true, t), yerr)\n",
    "\n",
    "plt.figure(figsize=(8,6))\n",
    "plt.errorbar(x=t, y=y, yerr=yerr, marker='o', ls=' ')\n",
    "plt.xlabel('t', fontsize=14)\n",
    "plt.ylabel('y', fontsize=14)\n",
    "plt.show()"
   ]
  },
  {
   "cell_type": "code",
   "execution_count": null,
   "metadata": {},
   "outputs": [],
   "source": [
    "def log_prior_A(params):\n",
    "    A, B, P, t0 = params\n",
    "\n",
    "    if np.abs(B)>10.0 or A<0.1 or A>100.0 or P<0.3 or P>10.0 or t0<0.0 or t0>1.0:\n",
    "        return -np.inf\n",
    "    return 0.0\n",
    "\n",
    "def log_prior_B(params):\n",
    "    B, = params\n",
    "\n",
    "    if np.abs(B)>10.0:\n",
    "        return -np.inf\n",
    "    return 0.0\n",
    "\n",
    "\n",
    "def log_like_A(params):\n",
    "    # compute for each x point, where it should lie in y\n",
    "    y_model = model_A(params, t)\n",
    "    # compute likelihood\n",
    "    loglike = -0.5 * (((y_model - y) / yerr)**2).sum()\n",
    "\n",
    "    return loglike\n",
    "\n",
    "def log_like_B(params):\n",
    "\n",
    "    y_model = model_B(params, t)\n",
    "    # compute likelihood\n",
    "    loglike = -0.5 * (((y_model - y) / yerr)**2).sum()\n",
    "\n",
    "    return loglike"
   ]
  },
  {
   "cell_type": "code",
   "execution_count": null,
   "metadata": {},
   "outputs": [],
   "source": [
    "ntemps = 40\n",
    "nwalkers = 4\n",
    "ndim_A = 4\n",
    "nsteps = 1000\n",
    "\n",
    "start_A = 0.5 + 0.001* np.random.randn(ntemps, nwalkers, ndim_A)\n",
    "\n",
    "sampler_A = arn.ReplicaExchangeSampler(ntemps, nwalkers, ndim_A, log_like_A, log_prior_A)\n",
    "sampler_A.run_mcmc(start_A, nsteps)"
   ]
  },
  {
   "cell_type": "code",
   "execution_count": null,
   "metadata": {},
   "outputs": [],
   "source": [
    "samples_A = sampler_A.get_chain()\n",
    "print(samples_A.shape)"
   ]
  },
  {
   "cell_type": "code",
   "execution_count": null,
   "metadata": {},
   "outputs": [],
   "source": [
    "labels = ['A', 'B', 'P', 't0']\n",
    "\n",
    "plt.figure(figsize=(14,8))\n",
    "for i in range(ndim_A):\n",
    "    plt.subplot(ndim_A,1,i+1)\n",
    "    plt.plot(samples_A[:,0,:,i],alpha=0.6)\n",
    "    plt.ylabel(labels[i], fontsize=14)\n",
    "plt.xlabel('Iteration', fontsize=14)\n",
    "plt.tight_layout()\n",
    "plt.show()"
   ]
  },
  {
   "cell_type": "code",
   "execution_count": null,
   "metadata": {},
   "outputs": [],
   "source": [
    "logz_A = sampler_A.get_logz()\n",
    "print(logz_A)"
   ]
  },
  {
   "cell_type": "code",
   "execution_count": null,
   "metadata": {},
   "outputs": [],
   "source": [
    "ntemps = 40\n",
    "nwalkers = 4\n",
    "ndim_B = 1\n",
    "nsteps = 1000\n",
    "\n",
    "start_B = 0.5 + 0.001* np.random.randn(ntemps, nwalkers, ndim_B)\n",
    "\n",
    "sampler_B = arn.ReplicaExchangeSampler(ntemps, nwalkers, ndim_B, log_like_B, log_prior_B)\n",
    "sampler_B.run_mcmc(start_B, nsteps)"
   ]
  },
  {
   "cell_type": "code",
   "execution_count": null,
   "metadata": {},
   "outputs": [],
   "source": [
    "samples_B = sampler_B.get_chain()\n",
    "print(samples_B.shape)"
   ]
  },
  {
   "cell_type": "code",
   "execution_count": null,
   "metadata": {},
   "outputs": [],
   "source": [
    "plt.figure(figsize=(14,2.5))\n",
    "plt.plot(samples_B[:,0,:,0],alpha=0.6)\n",
    "plt.ylabel('B', fontsize=14)\n",
    "plt.xlabel('Iteration', fontsize=14)\n",
    "plt.tight_layout()\n",
    "plt.show()"
   ]
  },
  {
   "cell_type": "code",
   "execution_count": null,
   "metadata": {},
   "outputs": [],
   "source": [
    "logz_B = sampler_B.get_logz()\n",
    "print(logz_B)"
   ]
  },
  {
   "cell_type": "code",
   "execution_count": null,
   "metadata": {},
   "outputs": [],
   "source": [
    "K = np.exp(logz_A-logz_B)\n",
    "\n",
    "print(\"The model A is %.2f times more probable than the no-signal model B assuming the models are equally probable a priori.\" % K)"
   ]
  },
  {
   "cell_type": "markdown",
   "metadata": {},
   "source": [
    "## Posterior Predictive Checks"
   ]
  },
  {
   "cell_type": "code",
   "execution_count": null,
   "metadata": {},
   "outputs": [],
   "source": [
    "t_range = np.linspace(0.0, 5.0, 1000)\n",
    "\n",
    "obs_A = []\n",
    "obs_B = []\n",
    "\n",
    "for s in samples_A[:,0].reshape(-1,ndim_A):\n",
    "    m = model_A(s, t_range)\n",
    "    obs_A.append(np.random.normal(m, yerr))\n",
    "\n",
    "for s in samples_B[:,0].reshape(-1,ndim_B):\n",
    "    m = model_B(s, t_range)\n",
    "    obs_B.append(np.random.normal(m, yerr))\n",
    "\n",
    "obs_A = np.array(obs_A)\n",
    "obs_B = np.array(obs_B)"
   ]
  },
  {
   "cell_type": "code",
   "execution_count": null,
   "metadata": {},
   "outputs": [],
   "source": [
    "plt.figure(figsize=(8,6))\n",
    "plt.fill_between(t_range, np.percentile(obs_A,2.5,axis=0),np.percentile(obs_A,97.5,axis=0),alpha=0.5)\n",
    "plt.plot(t_range, np.mean(obs_A, axis=0), label='Model A')\n",
    "plt.fill_between(t_range, np.percentile(obs_B,2.5,axis=0),np.percentile(obs_B,97.5,axis=0),alpha=0.5)\n",
    "plt.plot(t_range, np.mean(obs_B, axis=0), label='Model B')\n",
    "plt.errorbar(x=t, y=y, yerr=yerr, marker='o', ls=' ', color='red')\n",
    "plt.xlabel('t', fontsize=14)\n",
    "plt.ylabel('y', fontsize=14)\n",
    "plt.legend(fontsize=14)\n",
    "plt.show()"
   ]
  },
  {
   "cell_type": "code",
   "execution_count": null,
   "metadata": {},
   "outputs": [],
   "source": []
  }
 ],
 "metadata": {
  "kernelspec": {
   "display_name": "Python 3",
   "language": "python",
   "name": "python3"
  },
  "language_info": {
   "codemirror_mode": {
    "name": "ipython",
    "version": 3
   },
   "file_extension": ".py",
   "mimetype": "text/x-python",
   "name": "python",
   "nbconvert_exporter": "python",
   "pygments_lexer": "ipython3",
   "version": "3.7.6"
  },
  "toc": {
   "base_numbering": 1,
   "nav_menu": {},
   "number_sections": false,
   "sideBar": true,
   "skip_h1_title": false,
   "title_cell": "Table of Contents",
   "title_sidebar": "Contents",
   "toc_cell": false,
   "toc_position": {},
   "toc_section_display": true,
   "toc_window_display": false
  }
 },
 "nbformat": 4,
 "nbformat_minor": 2
}
